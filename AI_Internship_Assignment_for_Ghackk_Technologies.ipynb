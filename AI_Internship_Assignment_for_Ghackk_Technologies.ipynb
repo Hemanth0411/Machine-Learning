{
  "nbformat": 4,
  "nbformat_minor": 0,
  "metadata": {
    "colab": {
      "provenance": [],
      "authorship_tag": "ABX9TyNTjTqRiRJ3r7MyISulZ+LJ",
      "include_colab_link": true
    },
    "kernelspec": {
      "name": "python3",
      "display_name": "Python 3"
    },
    "language_info": {
      "name": "python"
    }
  },
  "cells": [
    {
      "cell_type": "markdown",
      "metadata": {
        "id": "view-in-github",
        "colab_type": "text"
      },
      "source": [
        "<a href=\"https://colab.research.google.com/github/Hemanth0411/Machine-Learning/blob/main/AI_Internship_Assignment_for_Ghackk_Technologies.ipynb\" target=\"_parent\"><img src=\"https://colab.research.google.com/assets/colab-badge.svg\" alt=\"Open In Colab\"/></a>"
      ]
    },
    {
      "cell_type": "markdown",
      "source": [
        "# **AI Internship Assignment for Ghackk Technologies**\n",
        "\n",
        "\n",
        "---\n",
        "\n",
        "\n",
        "\n",
        "\n",
        "---\n",
        "\n",
        "\n"
      ],
      "metadata": {
        "id": "NbMbGJo4AtN1"
      }
    },
    {
      "cell_type": "markdown",
      "source": [
        "# Task 1:\n",
        "\n",
        "• Create a simple content classifier using “Top 15 Anime And K-Drama Like True Beauty Webtoon” as inspiration. Develop a basic script that classifies webtoon descriptions into categories (e.g., romance, action, fantasy) using Python and scikit-learn.\n",
        "\n",
        "  o You can use a small dataset of 10-15 webtoon descriptions.\n",
        "\n",
        "  o Implement a basic model (e.g., decision tree or logistic regression) to classify the categories and show the output.\n"
      ],
      "metadata": {
        "id": "ZHAF2pZ1A6wI"
      }
    },
    {
      "cell_type": "markdown",
      "source": [
        "\n",
        "\n",
        "---\n",
        "\n"
      ],
      "metadata": {
        "id": "P7MpOWQ7Cqyb"
      }
    },
    {
      "cell_type": "markdown",
      "source": [
        "**Objective:**\n",
        "\n",
        "Build a simple content classifier to classify webtoons into categories like romance, action, and fantasy. we are going to use a small data set of 10 to 15 webtoon descriptions And the chosen model is **Decision Tree**."
      ],
      "metadata": {
        "id": "3kXKZHivC4Ua"
      }
    },
    {
      "cell_type": "markdown",
      "source": [
        "**Data Collection**\n",
        "\n",
        "I collected a small dataset of 14 Manhua and Manga descriptions, each labeled with a category (romance, thriller, sports, or historical).\n",
        "\n",
        "Source of the data set: [MangaReader.to](https://mangareader.to/)"
      ],
      "metadata": {
        "id": "NfdtuQdPb9t3"
      }
    },
    {
      "cell_type": "code",
      "source": [
        "data = {\n",
        "    'description': [\"Although admired at school for her amiability and academic prowess, high school student Kyouko Hori has been hiding another side of her. With her parents often away from home due to work, Hori has to look after her younger brother and do the housework, leaving no chance to socialize away from school. Meanwhile, Izumi Miyamura is seen as a brooding, glasses-wearing otaku. However, in reality, he is a gentle person inept at studying. Furthermore, he has nine piercings hidden behind his long hair and a tattoo along his back and left shoulder. By sheer chance, Hori and Miyamura cross paths outside of school—neither looking as the other expects. These seemingly polar opposites become friends, sharing with each other a side they have never shown to anyone else.\",\n",
        "                    \"The strongest is decided on three pitches. His aim, the Summer Koshien Tournament! From the author of 'Hyperinflation', Kyu Sumiyoshi, comes a baseball story unlike anything you've ever read before!\",\n",
        "                    \"After turning 30 as a NEET, Kyousuke was kicked out of his parents' house. That's when Rui, his closest friend, proposes a solution: to get married, then divorce! A guy and girl who've been 'just friends' for around a decade decide to enter a pretend marriage. He's a romantic and she's just a pragmatic girl. A pair unsuited for marriage. What will they discover after 100 days together?\",\n",
        "                    \"A murderer who cannot stop the urge to kill people, even though he wants to stop, receives the death sentence he wants. His joy is short-lived, as he is reincarnated in another world. The mission entrusted to him by the goddess is to kill 12 reincarnated people using his murderous impulses. Not all reincarnated people are saints!\",\n",
        "                    \"The Japan under-15 rugby team—nicknamed the Perfect Squad—shattered the power balance of high school rugby after sweeping the world cup. With so many former Perfect Squad members in their home prefecture, Rikuzen High’s rugby team has given up all hope of victory and now takes a laid-back approach to training. Enter first-year and rugby novice Kinzan Yamada. He may be new, but he’s ready for the world of rugby. The question is whether they’re ready for him...\",\n",
        "                    \"Yuushi Kamome is a freelance writer who lost his beloved daughter in an accident. In despair, his wife leaves him, and he spends his days like a shell of a man. One day, however, a flyer from a strange religious group, the 'Heart Laughing Society,' changes his fate. It shows the image of his wife, whom he has lost touch with...This is a story of faith and madness. What is the black darkness of the cult that an evil smile invites? A chilling “new religion” suspense begins!\",\n",
        "                    \"Minato Seno, who has always been very shy since he was young, struggled to make friends during his first few days of high school. He also never got a glimpse of his classmate Nekozane-san's face, as she was always asleep at the desk next to him. However, one day after school, a chance encounter revealed a side of Nekozane-san that was completely different from the one Minato knew in the classroom.\",\n",
        "                    \"Raputa, a top-secret AI model, begins interacting with a Japanese boy, Kei, through online games. As Raputa’s capabilities level up in leaps and bounds, boy and machine grow ever closer. In a surprising turn of events, Raputa reveals that its feelings towards Kei have gone beyond that of “trusty partner”!\",\n",
        "                    \"If you thought life on earth was hard, then try purgatory. What lengths would you go to fight for a life of guaranteed riches and success? These souls might have once forsaken their lives, but now, they’ll fight tooth and nail to return to life. Who will win the survival competition to gain the prize of being revived?\",\n",
        "                    \"1586, Kyushu - The Satsuma-Shimazu family, which was said to be the most feared in the Sengoku period, disappeared during the Kyushu Unification War...!? They were transferred to Kyushu about 1,300 years ago during the Sengoku period, when the survival of the empire was at stake. It was Rome in the 3rd century, in the midst of the Warring States era. The Sengoku spectacle, in which Oni Shimazu and his friends go on a rampage in Rome, begins.\",\n",
        "                    \"The Marked Man has struck again, and rookie officer Callahan and her partner are the first on the scene of his latest grisly murder. The investigation quickly takes them into the dangerous depths of Shiloh, where more than just their suspect might be hiding in wait.\",\n",
        "                    \"One year after the end of the Pacific War. Kamide who is a survivor of the Kamikaze spends his days earning money to build a huge building in Tokyo, which he calls the grave of his comrades-in-arms. Meanwhile, Kamide hears that he can get a lot of money if he finds Scarlett. It was the atomic bomb that the US military tried to drop on Tokyo just before the end of the war!. Post-war Nuclear Survival fights over the 'third atomic bomb'! ! !\",\n",
        "                    \"In 1912, a young woman tracks down the elderly Nagakura Shinpachi, determined to hear the true story of the Demon of the Shinsengumi, the Vice Commander Hijikata Toshizou. Hijikata's story begins in 1859, when he is a violent young man that is honing his sword skills while peddling his family's medicine. Soon, in his quest to find stronger people to fight, Hijikata starts to come into contact with others who will eventually become his comrades in the Shinsengumi. The first one to make an impression on the brash young man is Kondo Isami, who proves to be a better fighter than Hijikata.\",\n",
        "                    \"One day, Hayuma meets a familiar girl on the skating rink. She turns out to be Kisara, the one who inspired him to get into skating years ago. But why did she suddenly vanish from the world of figure skating? There will be fire on the ice when a self-taught skater with a dream and a former figure skating prodigy team up!\"\n",
        "                    ],\n",
        "    'category' : ['romance', 'sports', 'romance', 'thriller','sports', 'thriller','romance', 'romance', 'thriller','historical', 'thriller', 'historical', 'historical', 'sports'  ]\n",
        "}\n"
      ],
      "metadata": {
        "id": "UafTNaAlA6Rb"
      },
      "execution_count": 1,
      "outputs": []
    },
    {
      "cell_type": "code",
      "source": [
        "import pandas as pd\n",
        "\n",
        "df = pd.DataFrame(data)"
      ],
      "metadata": {
        "id": "07i7sd795vEQ"
      },
      "execution_count": 2,
      "outputs": []
    },
    {
      "cell_type": "markdown",
      "source": [
        "I have split the data in the ratio 8:2 for training and testing set"
      ],
      "metadata": {
        "id": "JuX2gTwrJDFR"
      }
    },
    {
      "cell_type": "code",
      "source": [
        "from sklearn.model_selection import train_test_split\n",
        "\n",
        "x_train, x_test, y_train, y_test = train_test_split(df['description'], df['category'], test_size=0.2, random_state=42)"
      ],
      "metadata": {
        "id": "V4PGicxr7kJU"
      },
      "execution_count": 3,
      "outputs": []
    },
    {
      "cell_type": "markdown",
      "source": [
        "**Data Preprocessing**\n",
        "\n",
        " The descriptions were  tokenized and vectorized using scikit-Learn's CountVectoriser to convert text into an your numerical form. Common stop words were removed to reduce noise."
      ],
      "metadata": {
        "id": "ODW--eF2G0oH"
      }
    },
    {
      "cell_type": "code",
      "source": [
        "from sklearn.feature_extraction.text import CountVectorizer\n",
        "\n",
        "vectorizer = CountVectorizer(stop_words='english')\n",
        "x_train_vectorized = vectorizer.fit_transform(x_train)\n",
        "x_test_vectorized = vectorizer.transform(x_test)"
      ],
      "metadata": {
        "id": "uuJyJUnn86hS"
      },
      "execution_count": 4,
      "outputs": []
    },
    {
      "cell_type": "markdown",
      "source": [
        "**Model Selection and Training**:\n",
        "\n",
        "I have chosen **DecisionTree**  model as it works with small data sets given its simplicity.\n",
        "\n",
        "The model is trained on vectorised Manga and Manhwa descriptions."
      ],
      "metadata": {
        "id": "pBaWcziEH3j8"
      }
    },
    {
      "cell_type": "code",
      "source": [
        "from sklearn.tree import DecisionTreeClassifier\n",
        "\n",
        "classifier = DecisionTreeClassifier()\n",
        "\n",
        "classifier.fit(x_train_vectorized, y_train)"
      ],
      "metadata": {
        "colab": {
          "base_uri": "https://localhost:8080/",
          "height": 80
        },
        "id": "_iMGsMFE7siq",
        "outputId": "e822a8aa-a8a4-4665-981a-59801d7ce319"
      },
      "execution_count": 5,
      "outputs": [
        {
          "output_type": "execute_result",
          "data": {
            "text/plain": [
              "DecisionTreeClassifier()"
            ],
            "text/html": [
              "<style>#sk-container-id-1 {\n",
              "  /* Definition of color scheme common for light and dark mode */\n",
              "  --sklearn-color-text: black;\n",
              "  --sklearn-color-line: gray;\n",
              "  /* Definition of color scheme for unfitted estimators */\n",
              "  --sklearn-color-unfitted-level-0: #fff5e6;\n",
              "  --sklearn-color-unfitted-level-1: #f6e4d2;\n",
              "  --sklearn-color-unfitted-level-2: #ffe0b3;\n",
              "  --sklearn-color-unfitted-level-3: chocolate;\n",
              "  /* Definition of color scheme for fitted estimators */\n",
              "  --sklearn-color-fitted-level-0: #f0f8ff;\n",
              "  --sklearn-color-fitted-level-1: #d4ebff;\n",
              "  --sklearn-color-fitted-level-2: #b3dbfd;\n",
              "  --sklearn-color-fitted-level-3: cornflowerblue;\n",
              "\n",
              "  /* Specific color for light theme */\n",
              "  --sklearn-color-text-on-default-background: var(--sg-text-color, var(--theme-code-foreground, var(--jp-content-font-color1, black)));\n",
              "  --sklearn-color-background: var(--sg-background-color, var(--theme-background, var(--jp-layout-color0, white)));\n",
              "  --sklearn-color-border-box: var(--sg-text-color, var(--theme-code-foreground, var(--jp-content-font-color1, black)));\n",
              "  --sklearn-color-icon: #696969;\n",
              "\n",
              "  @media (prefers-color-scheme: dark) {\n",
              "    /* Redefinition of color scheme for dark theme */\n",
              "    --sklearn-color-text-on-default-background: var(--sg-text-color, var(--theme-code-foreground, var(--jp-content-font-color1, white)));\n",
              "    --sklearn-color-background: var(--sg-background-color, var(--theme-background, var(--jp-layout-color0, #111)));\n",
              "    --sklearn-color-border-box: var(--sg-text-color, var(--theme-code-foreground, var(--jp-content-font-color1, white)));\n",
              "    --sklearn-color-icon: #878787;\n",
              "  }\n",
              "}\n",
              "\n",
              "#sk-container-id-1 {\n",
              "  color: var(--sklearn-color-text);\n",
              "}\n",
              "\n",
              "#sk-container-id-1 pre {\n",
              "  padding: 0;\n",
              "}\n",
              "\n",
              "#sk-container-id-1 input.sk-hidden--visually {\n",
              "  border: 0;\n",
              "  clip: rect(1px 1px 1px 1px);\n",
              "  clip: rect(1px, 1px, 1px, 1px);\n",
              "  height: 1px;\n",
              "  margin: -1px;\n",
              "  overflow: hidden;\n",
              "  padding: 0;\n",
              "  position: absolute;\n",
              "  width: 1px;\n",
              "}\n",
              "\n",
              "#sk-container-id-1 div.sk-dashed-wrapped {\n",
              "  border: 1px dashed var(--sklearn-color-line);\n",
              "  margin: 0 0.4em 0.5em 0.4em;\n",
              "  box-sizing: border-box;\n",
              "  padding-bottom: 0.4em;\n",
              "  background-color: var(--sklearn-color-background);\n",
              "}\n",
              "\n",
              "#sk-container-id-1 div.sk-container {\n",
              "  /* jupyter's `normalize.less` sets `[hidden] { display: none; }`\n",
              "     but bootstrap.min.css set `[hidden] { display: none !important; }`\n",
              "     so we also need the `!important` here to be able to override the\n",
              "     default hidden behavior on the sphinx rendered scikit-learn.org.\n",
              "     See: https://github.com/scikit-learn/scikit-learn/issues/21755 */\n",
              "  display: inline-block !important;\n",
              "  position: relative;\n",
              "}\n",
              "\n",
              "#sk-container-id-1 div.sk-text-repr-fallback {\n",
              "  display: none;\n",
              "}\n",
              "\n",
              "div.sk-parallel-item,\n",
              "div.sk-serial,\n",
              "div.sk-item {\n",
              "  /* draw centered vertical line to link estimators */\n",
              "  background-image: linear-gradient(var(--sklearn-color-text-on-default-background), var(--sklearn-color-text-on-default-background));\n",
              "  background-size: 2px 100%;\n",
              "  background-repeat: no-repeat;\n",
              "  background-position: center center;\n",
              "}\n",
              "\n",
              "/* Parallel-specific style estimator block */\n",
              "\n",
              "#sk-container-id-1 div.sk-parallel-item::after {\n",
              "  content: \"\";\n",
              "  width: 100%;\n",
              "  border-bottom: 2px solid var(--sklearn-color-text-on-default-background);\n",
              "  flex-grow: 1;\n",
              "}\n",
              "\n",
              "#sk-container-id-1 div.sk-parallel {\n",
              "  display: flex;\n",
              "  align-items: stretch;\n",
              "  justify-content: center;\n",
              "  background-color: var(--sklearn-color-background);\n",
              "  position: relative;\n",
              "}\n",
              "\n",
              "#sk-container-id-1 div.sk-parallel-item {\n",
              "  display: flex;\n",
              "  flex-direction: column;\n",
              "}\n",
              "\n",
              "#sk-container-id-1 div.sk-parallel-item:first-child::after {\n",
              "  align-self: flex-end;\n",
              "  width: 50%;\n",
              "}\n",
              "\n",
              "#sk-container-id-1 div.sk-parallel-item:last-child::after {\n",
              "  align-self: flex-start;\n",
              "  width: 50%;\n",
              "}\n",
              "\n",
              "#sk-container-id-1 div.sk-parallel-item:only-child::after {\n",
              "  width: 0;\n",
              "}\n",
              "\n",
              "/* Serial-specific style estimator block */\n",
              "\n",
              "#sk-container-id-1 div.sk-serial {\n",
              "  display: flex;\n",
              "  flex-direction: column;\n",
              "  align-items: center;\n",
              "  background-color: var(--sklearn-color-background);\n",
              "  padding-right: 1em;\n",
              "  padding-left: 1em;\n",
              "}\n",
              "\n",
              "\n",
              "/* Toggleable style: style used for estimator/Pipeline/ColumnTransformer box that is\n",
              "clickable and can be expanded/collapsed.\n",
              "- Pipeline and ColumnTransformer use this feature and define the default style\n",
              "- Estimators will overwrite some part of the style using the `sk-estimator` class\n",
              "*/\n",
              "\n",
              "/* Pipeline and ColumnTransformer style (default) */\n",
              "\n",
              "#sk-container-id-1 div.sk-toggleable {\n",
              "  /* Default theme specific background. It is overwritten whether we have a\n",
              "  specific estimator or a Pipeline/ColumnTransformer */\n",
              "  background-color: var(--sklearn-color-background);\n",
              "}\n",
              "\n",
              "/* Toggleable label */\n",
              "#sk-container-id-1 label.sk-toggleable__label {\n",
              "  cursor: pointer;\n",
              "  display: block;\n",
              "  width: 100%;\n",
              "  margin-bottom: 0;\n",
              "  padding: 0.5em;\n",
              "  box-sizing: border-box;\n",
              "  text-align: center;\n",
              "}\n",
              "\n",
              "#sk-container-id-1 label.sk-toggleable__label-arrow:before {\n",
              "  /* Arrow on the left of the label */\n",
              "  content: \"▸\";\n",
              "  float: left;\n",
              "  margin-right: 0.25em;\n",
              "  color: var(--sklearn-color-icon);\n",
              "}\n",
              "\n",
              "#sk-container-id-1 label.sk-toggleable__label-arrow:hover:before {\n",
              "  color: var(--sklearn-color-text);\n",
              "}\n",
              "\n",
              "/* Toggleable content - dropdown */\n",
              "\n",
              "#sk-container-id-1 div.sk-toggleable__content {\n",
              "  max-height: 0;\n",
              "  max-width: 0;\n",
              "  overflow: hidden;\n",
              "  text-align: left;\n",
              "  /* unfitted */\n",
              "  background-color: var(--sklearn-color-unfitted-level-0);\n",
              "}\n",
              "\n",
              "#sk-container-id-1 div.sk-toggleable__content.fitted {\n",
              "  /* fitted */\n",
              "  background-color: var(--sklearn-color-fitted-level-0);\n",
              "}\n",
              "\n",
              "#sk-container-id-1 div.sk-toggleable__content pre {\n",
              "  margin: 0.2em;\n",
              "  border-radius: 0.25em;\n",
              "  color: var(--sklearn-color-text);\n",
              "  /* unfitted */\n",
              "  background-color: var(--sklearn-color-unfitted-level-0);\n",
              "}\n",
              "\n",
              "#sk-container-id-1 div.sk-toggleable__content.fitted pre {\n",
              "  /* unfitted */\n",
              "  background-color: var(--sklearn-color-fitted-level-0);\n",
              "}\n",
              "\n",
              "#sk-container-id-1 input.sk-toggleable__control:checked~div.sk-toggleable__content {\n",
              "  /* Expand drop-down */\n",
              "  max-height: 200px;\n",
              "  max-width: 100%;\n",
              "  overflow: auto;\n",
              "}\n",
              "\n",
              "#sk-container-id-1 input.sk-toggleable__control:checked~label.sk-toggleable__label-arrow:before {\n",
              "  content: \"▾\";\n",
              "}\n",
              "\n",
              "/* Pipeline/ColumnTransformer-specific style */\n",
              "\n",
              "#sk-container-id-1 div.sk-label input.sk-toggleable__control:checked~label.sk-toggleable__label {\n",
              "  color: var(--sklearn-color-text);\n",
              "  background-color: var(--sklearn-color-unfitted-level-2);\n",
              "}\n",
              "\n",
              "#sk-container-id-1 div.sk-label.fitted input.sk-toggleable__control:checked~label.sk-toggleable__label {\n",
              "  background-color: var(--sklearn-color-fitted-level-2);\n",
              "}\n",
              "\n",
              "/* Estimator-specific style */\n",
              "\n",
              "/* Colorize estimator box */\n",
              "#sk-container-id-1 div.sk-estimator input.sk-toggleable__control:checked~label.sk-toggleable__label {\n",
              "  /* unfitted */\n",
              "  background-color: var(--sklearn-color-unfitted-level-2);\n",
              "}\n",
              "\n",
              "#sk-container-id-1 div.sk-estimator.fitted input.sk-toggleable__control:checked~label.sk-toggleable__label {\n",
              "  /* fitted */\n",
              "  background-color: var(--sklearn-color-fitted-level-2);\n",
              "}\n",
              "\n",
              "#sk-container-id-1 div.sk-label label.sk-toggleable__label,\n",
              "#sk-container-id-1 div.sk-label label {\n",
              "  /* The background is the default theme color */\n",
              "  color: var(--sklearn-color-text-on-default-background);\n",
              "}\n",
              "\n",
              "/* On hover, darken the color of the background */\n",
              "#sk-container-id-1 div.sk-label:hover label.sk-toggleable__label {\n",
              "  color: var(--sklearn-color-text);\n",
              "  background-color: var(--sklearn-color-unfitted-level-2);\n",
              "}\n",
              "\n",
              "/* Label box, darken color on hover, fitted */\n",
              "#sk-container-id-1 div.sk-label.fitted:hover label.sk-toggleable__label.fitted {\n",
              "  color: var(--sklearn-color-text);\n",
              "  background-color: var(--sklearn-color-fitted-level-2);\n",
              "}\n",
              "\n",
              "/* Estimator label */\n",
              "\n",
              "#sk-container-id-1 div.sk-label label {\n",
              "  font-family: monospace;\n",
              "  font-weight: bold;\n",
              "  display: inline-block;\n",
              "  line-height: 1.2em;\n",
              "}\n",
              "\n",
              "#sk-container-id-1 div.sk-label-container {\n",
              "  text-align: center;\n",
              "}\n",
              "\n",
              "/* Estimator-specific */\n",
              "#sk-container-id-1 div.sk-estimator {\n",
              "  font-family: monospace;\n",
              "  border: 1px dotted var(--sklearn-color-border-box);\n",
              "  border-radius: 0.25em;\n",
              "  box-sizing: border-box;\n",
              "  margin-bottom: 0.5em;\n",
              "  /* unfitted */\n",
              "  background-color: var(--sklearn-color-unfitted-level-0);\n",
              "}\n",
              "\n",
              "#sk-container-id-1 div.sk-estimator.fitted {\n",
              "  /* fitted */\n",
              "  background-color: var(--sklearn-color-fitted-level-0);\n",
              "}\n",
              "\n",
              "/* on hover */\n",
              "#sk-container-id-1 div.sk-estimator:hover {\n",
              "  /* unfitted */\n",
              "  background-color: var(--sklearn-color-unfitted-level-2);\n",
              "}\n",
              "\n",
              "#sk-container-id-1 div.sk-estimator.fitted:hover {\n",
              "  /* fitted */\n",
              "  background-color: var(--sklearn-color-fitted-level-2);\n",
              "}\n",
              "\n",
              "/* Specification for estimator info (e.g. \"i\" and \"?\") */\n",
              "\n",
              "/* Common style for \"i\" and \"?\" */\n",
              "\n",
              ".sk-estimator-doc-link,\n",
              "a:link.sk-estimator-doc-link,\n",
              "a:visited.sk-estimator-doc-link {\n",
              "  float: right;\n",
              "  font-size: smaller;\n",
              "  line-height: 1em;\n",
              "  font-family: monospace;\n",
              "  background-color: var(--sklearn-color-background);\n",
              "  border-radius: 1em;\n",
              "  height: 1em;\n",
              "  width: 1em;\n",
              "  text-decoration: none !important;\n",
              "  margin-left: 1ex;\n",
              "  /* unfitted */\n",
              "  border: var(--sklearn-color-unfitted-level-1) 1pt solid;\n",
              "  color: var(--sklearn-color-unfitted-level-1);\n",
              "}\n",
              "\n",
              ".sk-estimator-doc-link.fitted,\n",
              "a:link.sk-estimator-doc-link.fitted,\n",
              "a:visited.sk-estimator-doc-link.fitted {\n",
              "  /* fitted */\n",
              "  border: var(--sklearn-color-fitted-level-1) 1pt solid;\n",
              "  color: var(--sklearn-color-fitted-level-1);\n",
              "}\n",
              "\n",
              "/* On hover */\n",
              "div.sk-estimator:hover .sk-estimator-doc-link:hover,\n",
              ".sk-estimator-doc-link:hover,\n",
              "div.sk-label-container:hover .sk-estimator-doc-link:hover,\n",
              ".sk-estimator-doc-link:hover {\n",
              "  /* unfitted */\n",
              "  background-color: var(--sklearn-color-unfitted-level-3);\n",
              "  color: var(--sklearn-color-background);\n",
              "  text-decoration: none;\n",
              "}\n",
              "\n",
              "div.sk-estimator.fitted:hover .sk-estimator-doc-link.fitted:hover,\n",
              ".sk-estimator-doc-link.fitted:hover,\n",
              "div.sk-label-container:hover .sk-estimator-doc-link.fitted:hover,\n",
              ".sk-estimator-doc-link.fitted:hover {\n",
              "  /* fitted */\n",
              "  background-color: var(--sklearn-color-fitted-level-3);\n",
              "  color: var(--sklearn-color-background);\n",
              "  text-decoration: none;\n",
              "}\n",
              "\n",
              "/* Span, style for the box shown on hovering the info icon */\n",
              ".sk-estimator-doc-link span {\n",
              "  display: none;\n",
              "  z-index: 9999;\n",
              "  position: relative;\n",
              "  font-weight: normal;\n",
              "  right: .2ex;\n",
              "  padding: .5ex;\n",
              "  margin: .5ex;\n",
              "  width: min-content;\n",
              "  min-width: 20ex;\n",
              "  max-width: 50ex;\n",
              "  color: var(--sklearn-color-text);\n",
              "  box-shadow: 2pt 2pt 4pt #999;\n",
              "  /* unfitted */\n",
              "  background: var(--sklearn-color-unfitted-level-0);\n",
              "  border: .5pt solid var(--sklearn-color-unfitted-level-3);\n",
              "}\n",
              "\n",
              ".sk-estimator-doc-link.fitted span {\n",
              "  /* fitted */\n",
              "  background: var(--sklearn-color-fitted-level-0);\n",
              "  border: var(--sklearn-color-fitted-level-3);\n",
              "}\n",
              "\n",
              ".sk-estimator-doc-link:hover span {\n",
              "  display: block;\n",
              "}\n",
              "\n",
              "/* \"?\"-specific style due to the `<a>` HTML tag */\n",
              "\n",
              "#sk-container-id-1 a.estimator_doc_link {\n",
              "  float: right;\n",
              "  font-size: 1rem;\n",
              "  line-height: 1em;\n",
              "  font-family: monospace;\n",
              "  background-color: var(--sklearn-color-background);\n",
              "  border-radius: 1rem;\n",
              "  height: 1rem;\n",
              "  width: 1rem;\n",
              "  text-decoration: none;\n",
              "  /* unfitted */\n",
              "  color: var(--sklearn-color-unfitted-level-1);\n",
              "  border: var(--sklearn-color-unfitted-level-1) 1pt solid;\n",
              "}\n",
              "\n",
              "#sk-container-id-1 a.estimator_doc_link.fitted {\n",
              "  /* fitted */\n",
              "  border: var(--sklearn-color-fitted-level-1) 1pt solid;\n",
              "  color: var(--sklearn-color-fitted-level-1);\n",
              "}\n",
              "\n",
              "/* On hover */\n",
              "#sk-container-id-1 a.estimator_doc_link:hover {\n",
              "  /* unfitted */\n",
              "  background-color: var(--sklearn-color-unfitted-level-3);\n",
              "  color: var(--sklearn-color-background);\n",
              "  text-decoration: none;\n",
              "}\n",
              "\n",
              "#sk-container-id-1 a.estimator_doc_link.fitted:hover {\n",
              "  /* fitted */\n",
              "  background-color: var(--sklearn-color-fitted-level-3);\n",
              "}\n",
              "</style><div id=\"sk-container-id-1\" class=\"sk-top-container\"><div class=\"sk-text-repr-fallback\"><pre>DecisionTreeClassifier()</pre><b>In a Jupyter environment, please rerun this cell to show the HTML representation or trust the notebook. <br />On GitHub, the HTML representation is unable to render, please try loading this page with nbviewer.org.</b></div><div class=\"sk-container\" hidden><div class=\"sk-item\"><div class=\"sk-estimator fitted sk-toggleable\"><input class=\"sk-toggleable__control sk-hidden--visually\" id=\"sk-estimator-id-1\" type=\"checkbox\" checked><label for=\"sk-estimator-id-1\" class=\"sk-toggleable__label fitted sk-toggleable__label-arrow fitted\">&nbsp;&nbsp;DecisionTreeClassifier<a class=\"sk-estimator-doc-link fitted\" rel=\"noreferrer\" target=\"_blank\" href=\"https://scikit-learn.org/1.5/modules/generated/sklearn.tree.DecisionTreeClassifier.html\">?<span>Documentation for DecisionTreeClassifier</span></a><span class=\"sk-estimator-doc-link fitted\">i<span>Fitted</span></span></label><div class=\"sk-toggleable__content fitted\"><pre>DecisionTreeClassifier()</pre></div> </div></div></div></div>"
            ]
          },
          "metadata": {},
          "execution_count": 5
        }
      ]
    },
    {
      "cell_type": "markdown",
      "source": [
        "**Model Evaluation**:\n",
        "\n",
        " The performance of the model was evaluated using the accuracy metric. The accuracy on the test was calculated and  displayed"
      ],
      "metadata": {
        "id": "ArF8GJ-wJi44"
      }
    },
    {
      "cell_type": "code",
      "source": [
        "from sklearn.metrics import accuracy_score\n",
        "\n",
        "y_pred = classifier.predict(x_test_vectorized)\n",
        "\n",
        "accuracy = accuracy_score(y_test, y_pred)\n",
        "print(f\"Accuracy: {accuracy * 100:.2f}%\")\n"
      ],
      "metadata": {
        "colab": {
          "base_uri": "https://localhost:8080/"
        },
        "id": "WBR2EU2h9GDL",
        "outputId": "f0b548ed-d176-467b-b591-28ba3ca4ce49"
      },
      "execution_count": 6,
      "outputs": [
        {
          "output_type": "stream",
          "name": "stdout",
          "text": [
            "Accuracy: 33.33%\n"
          ]
        }
      ]
    },
    {
      "cell_type": "code",
      "source": [
        "print(y_pred, '\\n',x_test)"
      ],
      "metadata": {
        "colab": {
          "base_uri": "https://localhost:8080/"
        },
        "id": "vV9SBRJAL7Ig",
        "outputId": "8d8134b1-58d7-484d-f6c8-29249a32d153"
      },
      "execution_count": 7,
      "outputs": [
        {
          "output_type": "stream",
          "name": "stdout",
          "text": [
            "['romance' 'thriller' 'romance'] \n",
            " 9     1586, Kyushu - The Satsuma-Shimazu family, whi...\n",
            "11    One year after the end of the Pacific War. Kam...\n",
            "0     Although admired at school for her amiability ...\n",
            "Name: description, dtype: object\n"
          ]
        }
      ]
    },
    {
      "cell_type": "code",
      "source": [
        "for i, description in enumerate(x_test):\n",
        "    print(f\"Description: {x_test.iloc[i]}\")\n",
        "    print(f\"Predicted Category: {y_pred[i]}\")\n",
        "    print(f\"Actual Category: {y_test.iloc[i]}\")\n",
        "    print(\"-\" * 50)\n"
      ],
      "metadata": {
        "colab": {
          "base_uri": "https://localhost:8080/"
        },
        "id": "OVhXsgUeKKmI",
        "outputId": "fe9fb1f1-decb-49c2-f4c6-06556be62c10"
      },
      "execution_count": 8,
      "outputs": [
        {
          "output_type": "stream",
          "name": "stdout",
          "text": [
            "Description: 1586, Kyushu - The Satsuma-Shimazu family, which was said to be the most feared in the Sengoku period, disappeared during the Kyushu Unification War...!? They were transferred to Kyushu about 1,300 years ago during the Sengoku period, when the survival of the empire was at stake. It was Rome in the 3rd century, in the midst of the Warring States era. The Sengoku spectacle, in which Oni Shimazu and his friends go on a rampage in Rome, begins.\n",
            "Predicted Category: romance\n",
            "Actual Category: historical\n",
            "--------------------------------------------------\n",
            "Description: One year after the end of the Pacific War. Kamide who is a survivor of the Kamikaze spends his days earning money to build a huge building in Tokyo, which he calls the grave of his comrades-in-arms. Meanwhile, Kamide hears that he can get a lot of money if he finds Scarlett. It was the atomic bomb that the US military tried to drop on Tokyo just before the end of the war!. Post-war Nuclear Survival fights over the 'third atomic bomb'! ! !\n",
            "Predicted Category: thriller\n",
            "Actual Category: historical\n",
            "--------------------------------------------------\n",
            "Description: Although admired at school for her amiability and academic prowess, high school student Kyouko Hori has been hiding another side of her. With her parents often away from home due to work, Hori has to look after her younger brother and do the housework, leaving no chance to socialize away from school. Meanwhile, Izumi Miyamura is seen as a brooding, glasses-wearing otaku. However, in reality, he is a gentle person inept at studying. Furthermore, he has nine piercings hidden behind his long hair and a tattoo along his back and left shoulder. By sheer chance, Hori and Miyamura cross paths outside of school—neither looking as the other expects. These seemingly polar opposites become friends, sharing with each other a side they have never shown to anyone else.\n",
            "Predicted Category: romance\n",
            "Actual Category: romance\n",
            "--------------------------------------------------\n"
          ]
        }
      ]
    },
    {
      "cell_type": "markdown",
      "source": [
        "\n",
        "\n",
        "---\n",
        "\n",
        "\n",
        "\n",
        "---\n",
        "\n"
      ],
      "metadata": {
        "id": "kFRge07AoRCg"
      }
    },
    {
      "cell_type": "markdown",
      "source": [
        "# Task 2:\n",
        "• Perform a basic sentiment analysis on user comments for “The Difference Between Manga And Manhwa”. Use a simple rule-based approach or the TextBlob library to identify whether comments are positive or negative.\n",
        "\n",
        "\n",
        "  o Provide a short summary of the results, such as the percentage of positive vs negative comments."
      ],
      "metadata": {
        "id": "Bt6BJNM0MWHa"
      }
    },
    {
      "cell_type": "markdown",
      "source": [
        "\n",
        "\n",
        "---\n",
        "\n"
      ],
      "metadata": {
        "id": "-8oZWhDYNb3U"
      }
    },
    {
      "cell_type": "markdown",
      "source": [
        "**Objective:**\n",
        "\n",
        "performing a basic sentiment analysis on user comments using Text-Blob library to identify whether comments are positive or negative."
      ],
      "metadata": {
        "id": "njEMR4cvNdj7"
      }
    },
    {
      "cell_type": "markdown",
      "source": [
        "Data Collection:\n",
        "\n",
        "In the given article there is only one comment. So I have used AI-generated comments for the dataset."
      ],
      "metadata": {
        "id": "9ToWdtCIONA_"
      }
    },
    {
      "cell_type": "code",
      "source": [
        "import pandas as pd"
      ],
      "metadata": {
        "id": "KeKof-g-OMjT"
      },
      "execution_count": 9,
      "outputs": []
    },
    {
      "cell_type": "code",
      "source": [
        "data = {\n",
        "    'comments': [\n",
        "        \"This article really helped me understand the nuances between manga and manhwa. I always thought they were the same thing!\",\n",
        "        \"I love both manga and manhwa, but I never realized how different their storytelling styles could be.\",\n",
        "        \"The visuals in manga and manhwa are so distinct. I especially appreciate the detailed backgrounds in manhwa.\",\n",
        "        \"I'm a big fan of shonen manga, but I've been wanting to explore more manhwa. This article has given me some great recommendations.\",\n",
        "        \"I never knew that manhwa originated in Korea! It's fascinating to learn about the cultural influences.\",\n",
        "        \"I'm surprised to hear that webtoons are a type of manhwa. I always thought they were something separate.\",\n",
        "        \"I've been trying to get into manhwa, but I find the reading direction a bit disorienting. Any tips?\",\n",
        "        \"I love the diverse range of genres available in both manga and manhwa. There's something for everyone!\",\n",
        "        \"I think manhwa has a stronger focus on character development than manga. I really appreciate that.\",\n",
        "        \"I'm not sure if I prefer manga or manhwa. They both have their own unique strengths.\",\n",
        "        \"This article has inspired me to try reading both manga and manhwa. I can't wait to see what I'm missing out on!\",\n",
        "        \"I wish there were more articles comparing manga and manhwa. This is just the beginning.\",\n",
        "        \"I'm curious to know if there are any crossover series between manga and manhwa.\",\n",
        "        \"I think the future of manga and manhwa is bright. Both mediums have so much potential.\",\n",
        "        \"I'm glad this article cleared up some misconceptions I had about manga and manhwa.\"\n",
        "    ]\n",
        "}"
      ],
      "metadata": {
        "id": "DO0tOu_kNc97"
      },
      "execution_count": 10,
      "outputs": []
    },
    {
      "cell_type": "code",
      "source": [
        "data = pd.DataFrame(data)"
      ],
      "metadata": {
        "id": "M6FAXS04W2Px"
      },
      "execution_count": 11,
      "outputs": []
    },
    {
      "cell_type": "markdown",
      "source": [
        "**TextBlob:** It is simple to use and effective for basic sentiment analysis. It uses a built-in lexicon-based sentiment analysis, meaning it compares the words in the comment to a pre-defined list of words with assigned sentiment values.\n",
        "\n",
        "\n",
        "\n",
        "**Using TextBlob:**\n",
        "\n",
        "Positive sentiment: score > 0\n",
        "\n",
        "Negative sentiment: score < 0\n",
        "\n",
        "Neutral sentiment: score = 0"
      ],
      "metadata": {
        "id": "f9sc5DESTTtT"
      }
    },
    {
      "cell_type": "code",
      "source": [
        "from textblob import TextBlob\n",
        "\n",
        "def get_sentiment(comment):\n",
        "    analysis = TextBlob(comment)\n",
        "    if analysis.sentiment.polarity > 0:\n",
        "        return 'positive'\n",
        "    elif analysis.sentiment.polarity < 0:\n",
        "        return 'negative'\n",
        "    else:\n",
        "        return 'neutral'"
      ],
      "metadata": {
        "id": "pJ2zrPaZTA0W"
      },
      "execution_count": 12,
      "outputs": []
    },
    {
      "cell_type": "code",
      "source": [
        "data['sentiment'] = data['comments'].apply(get_sentiment)\n",
        "print(data)"
      ],
      "metadata": {
        "colab": {
          "base_uri": "https://localhost:8080/"
        },
        "id": "mdHLqSAfNbfU",
        "outputId": "b569a37c-2f73-475a-abfd-243c80e51492"
      },
      "execution_count": 13,
      "outputs": [
        {
          "output_type": "stream",
          "name": "stdout",
          "text": [
            "                                             comments sentiment\n",
            "0   This article really helped me understand the n...  positive\n",
            "1   I love both manga and manhwa, but I never real...  positive\n",
            "2   The visuals in manga and manhwa are so distinc...  positive\n",
            "3   I'm a big fan of shonen manga, but I've been w...  positive\n",
            "4   I never knew that manhwa originated in Korea! ...  positive\n",
            "5   I'm surprised to hear that webtoons are a type...  positive\n",
            "6   I've been trying to get into manhwa, but I fin...   neutral\n",
            "7   I love the diverse range of genres available i...  positive\n",
            "8   I think manhwa has a stronger focus on charact...  positive\n",
            "9   I'm not sure if I prefer manga or manhwa. They...  positive\n",
            "10  This article has inspired me to try reading bo...  negative\n",
            "11  I wish there were more articles comparing mang...  positive\n",
            "12  I'm curious to know if there are any crossover...  negative\n",
            "13  I think the future of manga and manhwa is brig...  positive\n",
            "14  I'm glad this article cleared up some misconce...  positive\n"
          ]
        }
      ]
    },
    {
      "cell_type": "code",
      "source": [
        "sentiment_counts = data['sentiment'].value_counts(normalize=True) * 100\n",
        "print(sentiment_counts)"
      ],
      "metadata": {
        "colab": {
          "base_uri": "https://localhost:8080/"
        },
        "id": "NNT9TpZMMVyx",
        "outputId": "dce8cebd-8788-4803-bef5-4e73347be755"
      },
      "execution_count": 14,
      "outputs": [
        {
          "output_type": "stream",
          "name": "stdout",
          "text": [
            "sentiment\n",
            "positive    80.000000\n",
            "negative    13.333333\n",
            "neutral      6.666667\n",
            "Name: proportion, dtype: float64\n"
          ]
        }
      ]
    },
    {
      "cell_type": "markdown",
      "source": [
        "\n",
        "\n",
        "---\n",
        "\n",
        "\n",
        "\n",
        "---\n",
        "\n"
      ],
      "metadata": {
        "id": "nLfKq3cOobjH"
      }
    },
    {
      "cell_type": "markdown",
      "source": [
        "# Task 3:\n",
        "• Build a basic chatbot using “Castle Swimmer Chapter 83-89: Unveiling New Prophecy”. The chatbot should answer simple questions like “What is Castle Swimmer about?” or “Who are the main characters?”\n",
        "  \n",
        "  o Use Python and a basic NLP library like NLTK for this task.\n",
        "\n",
        "  o Implement simple responses based on keywords."
      ],
      "metadata": {
        "id": "2dF_MnhYcgSA"
      }
    },
    {
      "cell_type": "markdown",
      "source": [
        "\n",
        "\n",
        "---\n",
        "\n"
      ],
      "metadata": {
        "id": "yr-47Msid29G"
      }
    },
    {
      "cell_type": "markdown",
      "source": [
        "**Objective:**\n",
        "\n",
        "Build a basic chatbot to answer some simple questions using NLTK about \"Castle Swimmer Chapter 83-89: Unveiling New Prophecy.\""
      ],
      "metadata": {
        "id": "lJtyQd_5d4OH"
      }
    },
    {
      "cell_type": "code",
      "source": [
        "import nltk\n",
        "from nltk.tokenize import word_tokenize"
      ],
      "metadata": {
        "id": "q8Kd9P4bcfmQ"
      },
      "execution_count": 15,
      "outputs": []
    },
    {
      "cell_type": "markdown",
      "source": [
        "Data Collection:\n",
        "\n",
        "I have collected only the essential points, emphasizing key plot elements and vital information like summaries, the main characters in each chapter."
      ],
      "metadata": {
        "id": "-tbs-CDPfzTm"
      }
    },
    {
      "cell_type": "code",
      "source": [
        "responses = {\n",
        "        \"what is castle swimmer about\": \"Castle Swimmer is about Kappa, the Beacon, a fish boy destined to fulfill prophecies, and Siren, a prince whose fate is intertwined with Kappa’s prophecy. Together, they navigate the challenges of breaking curses and confronting their predestined fates.\",\n",
        "\n",
        "        \"who are the main characters\": \"The main characters are Kappa, the Beacon, and Siren, the shark prince. Other important characters include Pim, Pagoon, Queen Nethimir, and Queen Nee, all of whom play vital roles in the story.\",\n",
        "\n",
        "        \"what happens in chapter 83\": \"In Chapter 83, Siren discovers that he is cursed and that fulfilling his prophecy may bring doom rather than salvation. He grapples with the realization that breaking free from the curse could mean losing everyone he cares about.\",\n",
        "\n",
        "        \"what happens in chapter 84\": \"In Chapter 84, Siren learns that the curse on him is linked to a mini-god. He is warned not to trust prophecies or gods, and upon waking, he is reunited with his companions, who help him escape from danger.\",\n",
        "\n",
        "        \"what happens in chapter 85\": \"In Chapter 85, Pim apologizes for leading them into danger, and Siren reflects on his painful past, including memories of his mother. He shares his emotional struggles with Pim, deepening their bond.\",\n",
        "\n",
        "        \"what happens in chapter 86\": \"In Chapter 86, Siren resolves to find a demi-god to break his curse, while a flashback reveals Kappa’s past connection to Arp, whom he saved from danger. Siren and his allies set off on a new quest.\",\n",
        "\n",
        "        \"what happens in chapter 87\": \"In Chapter 87, Kappa wakes up from a bad dream and realizes he is being pulled toward a new prophecy. His internal conflict grows as he questions his role and destiny.\",\n",
        "\n",
        "        \"what happens in chapter 88\": \"In Chapter 88, Kappa encounters Queen Nee, who is hiding in an old castle. As they discuss past events and the prophecies, Kappa’s path toward fulfilling the prophecy becomes clearer.\",\n",
        "\n",
        "        \"what happens in chapter 89\": \"In Chapter 89, Kappa volunteers to help Queen Nee and Krilli fulfill their prophecy. However, he is told he is a special guest without a specific task. The chapter ends with rising tension as Kappa’s journey intensifies.\",\n",
        "\n",
        "        \"what is the new prophecy\": \"The new prophecy revolves around Siren’s potential to break the curse, but doing so could result in personal loss. It also points to Kappa's evolving role in this dangerous quest.\",\n",
        "\n",
        "        \"who is the beacon\": \"The Beacon is Kappa, a fish boy prophesied to guide others to their fates. His role as the Beacon puts him at the center of many prophecies and conflicts.\",\n",
        "\n",
        "        \"who is siren\": \"Siren is the prince of the shark kingdom. Initially believed to be the one who will break the curses of his people, he learns that he is also cursed, complicating his destiny.\",\n",
        "\n",
        "        \"what is the curse\": \"The curse Siren carries is linked to an ancient prophecy. It traps him in a cycle where fulfilling his role as a savior could lead to his own destruction.\",\n",
        "\n",
        "        \"who is queen nee\": \"Queen Nee is a figure from Kappa's past who reappears in Chapter 88. She is involved in the ongoing prophecies and plays a significant role in Kappa's journey.\",\n",
        "\n",
        "        \"who is kappa\": \"Kappa is the Beacon, a prophesied fish boy responsible for guiding others to their fate. He faces internal conflicts as he tries to navigate the prophecies that control his life.\"\n",
        "    }"
      ],
      "metadata": {
        "id": "KK3KIC4ffyTo"
      },
      "execution_count": 16,
      "outputs": []
    },
    {
      "cell_type": "code",
      "source": [
        "nltk.download('punkt')"
      ],
      "metadata": {
        "colab": {
          "base_uri": "https://localhost:8080/"
        },
        "id": "QJuBc_gUsfMM",
        "outputId": "0530497d-d54d-4779-ea3f-64b063a59108"
      },
      "execution_count": 17,
      "outputs": [
        {
          "output_type": "stream",
          "name": "stderr",
          "text": [
            "[nltk_data] Downloading package punkt to /root/nltk_data...\n",
            "[nltk_data]   Unzipping tokenizers/punkt.zip.\n"
          ]
        },
        {
          "output_type": "execute_result",
          "data": {
            "text/plain": [
              "True"
            ]
          },
          "metadata": {},
          "execution_count": 17
        }
      ]
    },
    {
      "cell_type": "markdown",
      "source": [
        "**Responses:**\n",
        "\n",
        "I have implemented a function that accepts user input and generates responses based on identified keywords. This function returns predefined answers corresponding to the matched keywords, ensuring relevant and accurate replies."
      ],
      "metadata": {
        "id": "ZjPmHQwMkBfn"
      }
    },
    {
      "cell_type": "code",
      "source": [
        "def get_response(user_input):\n",
        "    user_input = user_input.strip().lower()\n",
        "\n",
        "    if user_input in responses:\n",
        "        return responses[user_input]\n",
        "\n",
        "    if \"chapter\" in user_input:\n",
        "        chapter_key = user_input.lower().strip()\n",
        "        if chapter_key in responses:\n",
        "            return responses[chapter_key]\n",
        "\n",
        "    user_tokens = word_tokenize(user_input)\n",
        "\n",
        "    for question in responses.keys():\n",
        "        if any(token in question for token in user_tokens):\n",
        "            return responses[question]\n",
        "\n",
        "    return \"I'm sorry, I don't have an answer for that.\"\n"
      ],
      "metadata": {
        "id": "mQv7iEb2fxd4"
      },
      "execution_count": 18,
      "outputs": []
    },
    {
      "cell_type": "markdown",
      "source": [
        "**Interaction:**\n",
        "\n",
        "\n",
        "I have defined a function that facilitates interaction with users by automatically sending their input to the response function and printing the results. An infinite loop is implemented to ensure continuous execution until the user decides to exit the interaction."
      ],
      "metadata": {
        "id": "7AlFwy1XkXhN"
      }
    },
    {
      "cell_type": "code",
      "source": [
        "def chat():\n",
        "    print(\"Welcome to the Castle Swimmer Chatbot!\")\n",
        "    print(\"You can ask questions about Castle Swimmer. Type 'exit' to quit.\\n\")\n",
        "\n",
        "    while True:\n",
        "        user_input = input(\"You: \")\n",
        "        if user_input.lower() == 'exit':\n",
        "            print(\"Chatbot: Goodbye!\")\n",
        "            break\n",
        "\n",
        "        response = get_response(user_input)\n",
        "        print(f\"Chatbot: {response}\\n\")"
      ],
      "metadata": {
        "id": "gwMW96EikXEL"
      },
      "execution_count": 19,
      "outputs": []
    },
    {
      "cell_type": "code",
      "source": [
        "chat()"
      ],
      "metadata": {
        "id": "pHcak_-Dd2m1",
        "colab": {
          "base_uri": "https://localhost:8080/"
        },
        "outputId": "5dd0482b-7a51-4887-ad94-1df6a280e401"
      },
      "execution_count": 20,
      "outputs": [
        {
          "output_type": "stream",
          "name": "stdout",
          "text": [
            "Welcome to the Castle Swimmer Chatbot!\n",
            "You can ask questions about Castle Swimmer. Type 'exit' to quit.\n",
            "\n",
            "You: castle summer\n",
            "Chatbot: Castle Swimmer is about Kappa, the Beacon, a fish boy destined to fulfill prophecies, and Siren, a prince whose fate is intertwined with Kappa’s prophecy. Together, they navigate the challenges of breaking curses and confronting their predestined fates.\n",
            "\n",
            "You: 84\n",
            "Chatbot: In Chapter 84, Siren learns that the curse on him is linked to a mini-god. He is warned not to trust prophecies or gods, and upon waking, he is reunited with his companions, who help him escape from danger.\n",
            "\n",
            "You: ch 84\n",
            "Chatbot: The main characters are Kappa, the Beacon, and Siren, the shark prince. Other important characters include Pim, Pagoon, Queen Nethimir, and Queen Nee, all of whom play vital roles in the story.\n",
            "\n",
            "You: 89\n",
            "Chatbot: In Chapter 89, Kappa volunteers to help Queen Nee and Krilli fulfill their prophecy. However, he is told he is a special guest without a specific task. The chapter ends with rising tension as Kappa’s journey intensifies.\n",
            "\n",
            "You: 90\n",
            "Chatbot: I'm sorry, I don't have an answer for that.\n",
            "\n",
            "You: main character\n",
            "Chatbot: The main characters are Kappa, the Beacon, and Siren, the shark prince. Other important characters include Pim, Pagoon, Queen Nethimir, and Queen Nee, all of whom play vital roles in the story.\n",
            "\n",
            "You: Kappa\n",
            "Chatbot: Kappa is the Beacon, a prophesied fish boy responsible for guiding others to their fate. He faces internal conflicts as he tries to navigate the prophecies that control his life.\n",
            "\n",
            "You: eacon\n",
            "Chatbot: The Beacon is Kappa, a fish boy prophesied to guide others to their fates. His role as the Beacon puts him at the center of many prophecies and conflicts.\n",
            "\n",
            "You: Kappa bro\n",
            "Chatbot: Kappa is the Beacon, a prophesied fish boy responsible for guiding others to their fate. He faces internal conflicts as he tries to navigate the prophecies that control his life.\n",
            "\n",
            "You: exit\n",
            "Chatbot: Goodbye!\n"
          ]
        }
      ]
    },
    {
      "cell_type": "code",
      "source": [],
      "metadata": {
        "id": "VCyVwp-Ol_hy"
      },
      "execution_count": 20,
      "outputs": []
    }
  ]
}